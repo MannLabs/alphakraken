{
 "cells": [
  {
   "cell_type": "raw",
   "id": "4d719c181be8d777",
   "metadata": {},
   "source": [
    "# Debug notebook for MCP server functions"
   ]
  },
  {
   "cell_type": "code",
   "execution_count": null,
   "id": "5cf2ccab043fdf54",
   "metadata": {},
   "outputs": [],
   "source": [
    "%reload_ext autoreload\n",
    "%autoreload 2"
   ]
  },
  {
   "cell_type": "code",
   "execution_count": null,
   "id": "initial_id",
   "metadata": {},
   "outputs": [],
   "source": [
    "import os\n",
    "\n",
    "# set this to connect to a DB\n",
    "os.environ[\"MONGO_HOST\"] = \"\"\n",
    "os.environ[\"MONGO_PORT\"] = \"27017\"\n",
    "os.environ[\"MONGO_USER\"] = \"\"\n",
    "os.environ[\"MONGO_PASSWORD\"] = \"\"\n",
    "\n",
    "os.environ[\"MCP_TRANSPORT\"] = \"disabled\"\n",
    "from server import (\n",
    "    get_available_instruments,\n",
    "    get_raw_files_by_names,\n",
    "    get_raw_files_for_instrument,\n",
    ")"
   ]
  },
  {
   "cell_type": "code",
   "execution_count": null,
   "id": "b12acbbcbe983b8a",
   "metadata": {},
   "outputs": [],
   "source": [
    "instruments = get_available_instruments()\n",
    "display(instruments)  # ty: ignore[unresolved-reference]"
   ]
  },
  {
   "cell_type": "code",
   "execution_count": null,
   "id": "3450e13fb36f9826",
   "metadata": {},
   "outputs": [],
   "source": [
    "raw_files = get_raw_files_for_instrument(\n",
    "    instruments[0][\"instrument_id\"], max_age_in_days=1\n",
    ")\n",
    "display(raw_files)  # ty: ignore[unresolved-reference]"
   ]
  },
  {
   "cell_type": "code",
   "execution_count": null,
   "id": "a3c2f8dcde355e2e",
   "metadata": {},
   "outputs": [],
   "source": [
    "raw_file_name = raw_files[0][\"raw_file\"][\"name\"]\n",
    "raw_file_data = get_raw_files_by_names([raw_file_name])\n",
    "display(raw_file_data)  # ty: ignore[unresolved-reference]"
   ]
  }
 ],
 "metadata": {
  "kernelspec": {
   "display_name": "Python 3",
   "language": "python",
   "name": "python3"
  },
  "language_info": {
   "codemirror_mode": {
    "name": "ipython",
    "version": 2
   },
   "file_extension": ".py",
   "mimetype": "text/x-python",
   "name": "python",
   "nbconvert_exporter": "python",
   "pygments_lexer": "ipython2"
  }
 },
 "nbformat": 4,
 "nbformat_minor": 5
}
