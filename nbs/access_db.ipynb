{
 "cells": [
  {
   "cell_type": "markdown",
   "id": "467c5fdedcdf80b",
   "metadata": {},
   "source": [
    "# Manual DB interventions\n",
    "This notebook is used to manually intervene in the database, e.g. to fix inconsistencies.\n",
    "\n",
    "Make a backup of the database before running this notebook, test on local/sandbox first, and use it with care!"
   ]
  },
  {
   "cell_type": "code",
   "execution_count": null,
   "id": "5d28fc8179c9f571",
   "metadata": {},
   "outputs": [],
   "source": [
    "%reload_ext autoreload\n",
    "%autoreload 2"
   ]
  },
  {
   "cell_type": "code",
   "execution_count": null,
   "id": "ea547db0fe3d5320",
   "metadata": {},
   "outputs": [],
   "source": [
    "import os\n",
    "from datetime import datetime, timedelta\n",
    "\n",
    "import pandas as pd\n",
    "import pytz\n",
    "\n",
    "from shared.db.models import Metrics, RawFile"
   ]
  },
  {
   "cell_type": "markdown",
   "id": "92de352017efed82",
   "metadata": {},
   "source": [
    "## Connect to the database"
   ]
  },
  {
   "cell_type": "code",
   "execution_count": null,
   "id": "82b05eeae037483c",
   "metadata": {},
   "outputs": [],
   "source": [
    "# connect to the database\n",
    "os.environ[\"MONGO_HOST\"] = \"localhost\"\n",
    "os.environ[\"MONGO_PORT\"] = \"27017\"\n",
    "os.environ[\"MONGO_USER\"] = \"mongo\"\n",
    "os.environ[\"MONGO_PASSWORD\"] = \"\"\n",
    "\n",
    "from shared.db import engine\n",
    "from shared.db.engine import connect_db\n",
    "\n",
    "print(\"database user\", engine.DB_USER)\n",
    "connect_db()"
   ]
  },
  {
   "cell_type": "markdown",
   "id": "e3d53cef19551867",
   "metadata": {},
   "source": [
    "## Query data"
   ]
  },
  {
   "cell_type": "code",
   "execution_count": null,
   "id": "initial_id",
   "metadata": {},
   "outputs": [],
   "source": [
    "# example: get all raw files and metrics from the last 9 days\n",
    "max_age_in_days = 9\n",
    "min_created_at = pd.Timestamp(\n",
    "    datetime.now(tz=pytz.UTC) - timedelta(days=max_age_in_days)\n",
    ")\n",
    "\n",
    "raw_files_db = RawFile.objects(created_at__gte=min_created_at)\n",
    "\n",
    "metrics_db = Metrics.objects(raw_file__in=raw_files_db)\n",
    "\n",
    "print(len(list(raw_files_db)), \"raw files found\")\n",
    "print(len(list(metrics_db)), \"metrics found\")"
   ]
  },
  {
   "cell_type": "code",
   "execution_count": null,
   "id": "9f8c05eadc9ad215",
   "metadata": {},
   "outputs": [],
   "source": [
    "from typing import Any\n",
    "\n",
    "from mongoengine import QuerySet\n",
    "\n",
    "\n",
    "def augment_raw_files_with_metrics(\n",
    "    raw_files: QuerySet,\n",
    ") -> dict[str, Any]:\n",
    "    \"\"\"Augment raw files with their latest metrics.\n",
    "\n",
    "    Args:\n",
    "        raw_files (QuerySet): A mongoengine QuerySet of RawFile objects to augment with metrics.\n",
    "\n",
    "    Returns:\n",
    "        dict[str, Any]: A dictionary containing raw file information and their latest metrics.\n",
    "                              Each dictionary has the keys:\n",
    "                              - \"raw_file\": A dictionary with raw file details.\n",
    "                              - \"metrics_{type}\": A dictionary with the latest metrics of type \"type\" or an empty dictionary if none exist.\n",
    "\n",
    "    \"\"\"\n",
    "    raw_files_dict: dict = {\n",
    "        raw_file_mongo[\"_id\"]: raw_file_mongo\n",
    "        for raw_file in raw_files\n",
    "        if (\n",
    "            raw_file_mongo := dict(raw_file.to_mongo())\n",
    "        )  # if condition is always true, but avoids double-calling to_mongo((\n",
    "    }\n",
    "\n",
    "    # querying all metrics at once to avoid load on DB\n",
    "    for metrics_ in Metrics.objects.filter(\n",
    "        raw_file__in=list(raw_files_dict.keys())\n",
    "    ).order_by(\"-created_at_\"):\n",
    "        metrics = dict(metrics_.to_mongo())\n",
    "        raw_files_dict[metrics[\"raw_file\"]][f\"metrics_{metrics['type']}\"] = metrics\n",
    "\n",
    "    return raw_files_dict\n",
    "\n",
    "\n",
    "raw_files_with_metrics = augment_raw_files_with_metrics(raw_files_db)"
   ]
  },
  {
   "cell_type": "markdown",
   "id": "cefeb3caeedc4841",
   "metadata": {},
   "source": [
    "## Helper methods"
   ]
  },
  {
   "cell_type": "code",
   "execution_count": null,
   "id": "ba0281fe00632327",
   "metadata": {},
   "outputs": [],
   "source": [
    "import re\n",
    "\n",
    "\n",
    "def starts_with_collision_flag(text: str) -> bool:\n",
    "    \"\"\"Check if a string starts with a collision flag, i.e. a date in format YYYYMMDD-HHMMSS-<6 digits milliseconds>.\"\"\"\n",
    "    pattern = r\"^\\d{8}-\\d{6}-\\d{6}-\"\n",
    "    return bool(re.match(pattern, text))"
   ]
  },
  {
   "cell_type": "markdown",
   "id": "36b53df75621c1de",
   "metadata": {},
   "source": [
    "## Example: change file_info keys"
   ]
  },
  {
   "cell_type": "markdown",
   "id": "9301c6b07b038d42",
   "metadata": {},
   "source": [
    "### Select data"
   ]
  },
  {
   "cell_type": "code",
   "execution_count": null,
   "id": "41ac62ff4435e717",
   "metadata": {},
   "outputs": [],
   "source": [
    "ids = []\n",
    "raw_files = []\n",
    "\n",
    "for ff in raw_files_db:\n",
    "    f = ff.to_mongo()\n",
    "    if starts_with_collision_flag(f[\"_id\"]):\n",
    "        print(f[\"_id\"])\n",
    "        ids.append(f[\"_id\"])\n",
    "        raw_files.append(f)"
   ]
  },
  {
   "cell_type": "markdown",
   "id": "2c03fec7b515537f",
   "metadata": {},
   "source": [
    "### Write to database"
   ]
  },
  {
   "cell_type": "code",
   "execution_count": null,
   "id": "a8ed207324dee977",
   "metadata": {},
   "outputs": [],
   "source": [
    "write_to_db = False  # set to True to save changes\n",
    "\n",
    "for id_ in ids:\n",
    "    raw_file = (RawFile.objects(id=id_)).first()\n",
    "\n",
    "    new_file_info = {}\n",
    "\n",
    "    for k, v in raw_file.file_info.items():\n",
    "        new_k = k.replace(raw_file.original_name, raw_file.id)\n",
    "        new_file_info[new_k] = v\n",
    "\n",
    "    raw_file.file_info = new_file_info\n",
    "    if write_to_db:\n",
    "        raw_file.save()"
   ]
  }
 ],
 "metadata": {
  "kernelspec": {
   "display_name": "Python 3",
   "language": "python",
   "name": "python3"
  },
  "language_info": {
   "codemirror_mode": {
    "name": "ipython",
    "version": 2
   },
   "file_extension": ".py",
   "mimetype": "text/x-python",
   "name": "python",
   "nbconvert_exporter": "python",
   "pygments_lexer": "ipython2"
  }
 },
 "nbformat": 4,
 "nbformat_minor": 5
}
