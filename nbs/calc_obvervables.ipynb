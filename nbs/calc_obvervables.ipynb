{
 "cells": [
  {
   "cell_type": "markdown",
   "id": "a9724364ad7d2449",
   "metadata": {},
   "source": [
    "# Calculate AlphaKraken observables\n",
    "An example notebook to calculate observables from AlphaKraken output data.\n",
    "\n",
    "Files will be cached locally in order to reduce network traffic.\n",
    "\n"
   ]
  },
  {
   "cell_type": "code",
   "execution_count": null,
   "id": "a95e19187607c166",
   "metadata": {},
   "outputs": [],
   "source": [
    "# environment:\n",
    "# python 3.11\n",
    "# jupyter==1.1.1\n",
    "# tqdm=4.66.5\n",
    "# -r misc/requirements_development.txt"
   ]
  },
  {
   "cell_type": "code",
   "execution_count": null,
   "id": "46d45b1ca5a7c596",
   "metadata": {},
   "outputs": [],
   "source": [
    "import shutil\n",
    "from collections import defaultdict\n",
    "from pathlib import Path\n",
    "\n",
    "import matplotlib.pyplot as plt\n",
    "import pandas as pd\n",
    "from tqdm import tqdm"
   ]
  },
  {
   "cell_type": "markdown",
   "id": "8f348dfad6a10418",
   "metadata": {},
   "source": [
    "## User input\n",
    "Set these according to your system."
   ]
  },
  {
   "cell_type": "code",
   "execution_count": null,
   "id": "7e0c147d3fd2fc81",
   "metadata": {},
   "outputs": [],
   "source": [
    "HOME_DIR = Path(\"/Users/mschwoerer\")\n",
    "\n",
    "# where to find csv export of overview table\n",
    "input_path = HOME_DIR / \"Downloads/2024-09-10T08-46_export.csv\"\n",
    "\n",
    "# where to find alphakraken network mount\n",
    "network_path = Path(\"/Volumes/pool-alphakraken\")\n",
    "\n",
    "# where to store temporary files\n",
    "local_temp_path = HOME_DIR / \"alphakraken_temp\"\n",
    "\n",
    "# add more if you need more files\n",
    "FILE_NAMES = [\"precursors.tsv\", \"stat.tsv\"]"
   ]
  },
  {
   "cell_type": "code",
   "execution_count": null,
   "id": "fa4d765b3da32e51",
   "metadata": {},
   "outputs": [],
   "source": [
    "if not network_path.exists():\n",
    "    raise Warning(\n",
    "        \"Network path not found. Not a problem if the files are already cached.\"\n",
    "    )"
   ]
  },
  {
   "cell_type": "markdown",
   "id": "bfce51e9af0434d6",
   "metadata": {},
   "source": "## Helper code"
  },
  {
   "cell_type": "code",
   "execution_count": null,
   "id": "54d4161651c1251f",
   "metadata": {},
   "outputs": [],
   "source": [
    "output_files_path = network_path / \"output\"\n",
    "\n",
    "local_temp_path.mkdir(parents=True, exist_ok=True)"
   ]
  },
  {
   "cell_type": "code",
   "execution_count": null,
   "id": "a4941782849f6c79",
   "metadata": {},
   "outputs": [],
   "source": [
    "def _get_project_for_instrument(row: pd.Series) -> str:\n",
    "    \"\"\"Use heuristics to find out project name.\"\"\"\n",
    "    # if row[\"project\"]: # TODO: add to kraken table\n",
    "    #     return row[\"project\"]\n",
    "    if row[\"instrument_id\"].startswith(\"tims\"):\n",
    "        return \"_FALLBACK_BRUKER\"\n",
    "    return \"_FALLBACK\""
   ]
  },
  {
   "cell_type": "markdown",
   "id": "270bb6db67e9f547",
   "metadata": {},
   "source": "## Read data from AlphaKraken table"
  },
  {
   "cell_type": "code",
   "execution_count": null,
   "id": "67659f0668f1b39d",
   "metadata": {},
   "outputs": [],
   "source": [
    "def read_overview_data(input_path: Path) -> pd.DataFrame:\n",
    "    \"\"\"Read overview data from AlphaKraken export.\"\"\"\n",
    "    overview_df = pd.read_csv(input_path)\n",
    "    overview_df = overview_df.rename(columns={\"_id\": \"file_name\"})\n",
    "    overview_df = overview_df.rename(columns={\"Unnamed: 0\": \"file_name\"})\n",
    "    overview_df[\"year_month\"] = pd.to_datetime(overview_df[\"file_created\"]).dt.strftime(\n",
    "        \"%Y_%m\"\n",
    "    )\n",
    "    return overview_df"
   ]
  },
  {
   "cell_type": "markdown",
   "id": "1d1e51be0772a1a0",
   "metadata": {},
   "source": "## Copy data"
  },
  {
   "cell_type": "code",
   "execution_count": null,
   "id": "5ed2f6d2aac53a36",
   "metadata": {},
   "outputs": [],
   "source": [
    "def _is_file_ready(\n",
    "    file_name: str, local_path: Path, source_path: Path, single_file_paths: dict\n",
    ") -> bool:\n",
    "    \"\"\"Check if file is already cached, if not copy it. Returns False if file is not available for further processing.\"\"\"\n",
    "    all_exist_src = True\n",
    "    all_exist_dst = True\n",
    "    if not local_path.exists():\n",
    "        if not source_path.exists():\n",
    "            print(\"not found:\", file_name)\n",
    "            return False\n",
    "\n",
    "        local_path.mkdir(parents=True, exist_ok=True)\n",
    "\n",
    "        for src_path, dst_path in single_file_paths.values():\n",
    "            all_exist_src &= src_path.exists()\n",
    "            if src_path.exists():\n",
    "                shutil.copy2(src_path, dst_path)\n",
    "    else:\n",
    "        for _, dst_path in single_file_paths.values():\n",
    "            all_exist_dst &= dst_path.exists()\n",
    "\n",
    "    if not all_exist_src:\n",
    "        print(\"results missing in source:\", file_name)\n",
    "        return False\n",
    "    if not all_exist_dst:\n",
    "        print(\"results missing in dest, removing. Re-run to fix.\", file_name)\n",
    "        shutil.rmtree(local_path)\n",
    "        return False\n",
    "    return True\n",
    "\n",
    "\n",
    "def read_and_cache_output(overview_df: pd.DataFrame) -> dict:\n",
    "    \"\"\"Read output files from AlphaKraken and cache them locally.\"\"\"\n",
    "    all_data = {}\n",
    "\n",
    "    for _, row in tqdm(overview_df.iterrows(), total=len(overview_df)):\n",
    "        file_name = row[\"file_name\"]\n",
    "        project = _get_project_for_instrument(row)\n",
    "\n",
    "        rel_path = f\"{project}/{row['year_month']}/out_{file_name}\"\n",
    "        source_path = output_files_path / rel_path\n",
    "        local_path = local_temp_path / rel_path\n",
    "\n",
    "        paths = {file: (source_path / file, local_path / file) for file in FILE_NAMES}\n",
    "\n",
    "        if not _is_file_ready(\n",
    "            file_name,\n",
    "            local_path,\n",
    "            source_path,\n",
    "            paths,\n",
    "        ):\n",
    "            continue\n",
    "\n",
    "        all_data[file_name] = [\n",
    "            pd.read_csv(paths[file][1], sep=\"\\t\") for file in FILE_NAMES\n",
    "        ]\n",
    "    return all_data"
   ]
  },
  {
   "cell_type": "markdown",
   "id": "e853bd09956c2227",
   "metadata": {},
   "source": "## Extract data"
  },
  {
   "cell_type": "code",
   "execution_count": null,
   "id": "4b9aebcc4e4e260",
   "metadata": {},
   "outputs": [],
   "source": [
    "def extract_observables(all_data: dict) -> pd.DataFrame:\n",
    "    \"\"\"Extract observables from AlphaKraken output.\"\"\"\n",
    "    tmp_dict = defaultdict(list)\n",
    "    for file_name, (file_tuple) in all_data.items():\n",
    "        tmp_dict[\"file_name\"].append(file_name)\n",
    "        # add your observables here:\n",
    "        precursors_data = file_tuple[0]\n",
    "        tmp_dict[\"intensity_sum\"].append(precursors_data[\"intensity\"].sum())\n",
    "\n",
    "    return pd.DataFrame(tmp_dict)"
   ]
  },
  {
   "cell_type": "markdown",
   "id": "87492108c87efccc",
   "metadata": {},
   "source": "## Plot data"
  },
  {
   "cell_type": "code",
   "execution_count": null,
   "id": "3d72b27d771dbc3d",
   "metadata": {},
   "outputs": [],
   "source": [
    "overview_df = read_overview_data(input_path).head(10)\n",
    "all_data = read_and_cache_output(overview_df)\n",
    "observables_df = extract_observables(all_data)\n",
    "data_df = observables_df.merge(overview_df, on=\"file_name\")\n",
    "\n",
    "data_df.plot(x=\"file_created\", y=\"intensity_sum\", kind=\"scatter\")\n",
    "plt.xticks(rotation=45)"
   ]
  },
  {
   "cell_type": "code",
   "execution_count": null,
   "id": "abd5ad444dc7f8e5",
   "metadata": {},
   "outputs": [],
   "source": []
  },
  {
   "cell_type": "code",
   "execution_count": null,
   "id": "610f2477cd9fd7ed",
   "metadata": {},
   "outputs": [],
   "source": []
  }
 ],
 "metadata": {
  "kernelspec": {
   "display_name": "Python 3",
   "language": "python",
   "name": "python3"
  },
  "language_info": {
   "codemirror_mode": {
    "name": "ipython",
    "version": 2
   },
   "file_extension": ".py",
   "mimetype": "text/x-python",
   "name": "python",
   "nbconvert_exporter": "python",
   "pygments_lexer": "ipython2",
   "version": "2.7.6"
  }
 },
 "nbformat": 4,
 "nbformat_minor": 5
}
