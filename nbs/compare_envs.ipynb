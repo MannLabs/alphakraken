{
 "cells": [
  {
   "cell_type": "markdown",
   "id": "a9724364ad7d2449",
   "metadata": {},
   "source": [
    "# Compare AlphaKraken observables between different environments\n",
    "An example notebook to access and compare observables from AlphaKraken output data.\n",
    "\n",
    "\n"
   ]
  },
  {
   "cell_type": "code",
   "execution_count": null,
   "id": "c6a8465f1fbd576d",
   "metadata": {},
   "outputs": [],
   "source": [
    "# ruff: noqa: PLR2004, PD002 # magic numbers, inplace"
   ]
  },
  {
   "cell_type": "code",
   "execution_count": null,
   "id": "a95e19187607c166",
   "metadata": {},
   "outputs": [],
   "source": [
    "# environment:\n",
    "# python 3.11\n",
    "# jupyter==1.1.1\n",
    "# -r misc/requirements_development.txt"
   ]
  },
  {
   "cell_type": "code",
   "execution_count": null,
   "id": "46d45b1ca5a7c596",
   "metadata": {},
   "outputs": [],
   "source": [
    "from collections import defaultdict\n",
    "from pathlib import Path\n",
    "\n",
    "import matplotlib.pyplot as plt\n",
    "import pandas as pd"
   ]
  },
  {
   "cell_type": "markdown",
   "id": "8f348dfad6a10418",
   "metadata": {},
   "source": [
    "## User input\n",
    "Set these according to your system."
   ]
  },
  {
   "cell_type": "code",
   "execution_count": null,
   "id": "7e0c147d3fd2fc81",
   "metadata": {},
   "outputs": [],
   "source": [
    "HOME_DIR = Path(\"/Users/mschwoerer\")\n",
    "\n",
    "# where to find csv export of overview table\n",
    "input_path_sandbox = HOME_DIR / \"Downloads/AlphaKraken_20250717-084639_filtered.csv\"\n",
    "input_path_prod = HOME_DIR / \"Downloads/AlphaKraken_20250717-084612_filtered.csv\""
   ]
  },
  {
   "cell_type": "markdown",
   "id": "bfce51e9af0434d6",
   "metadata": {},
   "source": [
    "## Analysis code"
   ]
  },
  {
   "cell_type": "markdown",
   "id": "270bb6db67e9f547",
   "metadata": {},
   "source": [
    "### Read data from AlphaKraken table"
   ]
  },
  {
   "cell_type": "code",
   "execution_count": null,
   "id": "67659f0668f1b39d",
   "metadata": {},
   "outputs": [],
   "source": [
    "def read_overview_data(input_path: Path) -> pd.DataFrame:\n",
    "    \"\"\"Read overview data from AlphaKraken export.\"\"\"\n",
    "    overview_df = pd.read_csv(input_path)\n",
    "    overview_df.rename(columns={\"_id\": \"file_name\"}, inplace=True)\n",
    "    overview_df.rename(columns={\"Unnamed: 0\": \"file_name\"}, inplace=True)\n",
    "    overview_df[\"year_month\"] = pd.to_datetime(overview_df[\"file_created\"]).dt.strftime(\n",
    "        \"%Y_%m\"\n",
    "    )\n",
    "    return overview_df"
   ]
  },
  {
   "cell_type": "markdown",
   "id": "e853bd09956c2227",
   "metadata": {},
   "source": [
    "### Extract data"
   ]
  },
  {
   "cell_type": "code",
   "execution_count": null,
   "id": "4b9aebcc4e4e260",
   "metadata": {},
   "outputs": [],
   "source": [
    "def extract_observables(all_data: dict) -> pd.DataFrame:\n",
    "    \"\"\"Extract observables from AlphaKraken output.\"\"\"\n",
    "    tmp_dict = defaultdict(list)\n",
    "    for file_name, (file_tuple) in all_data.items():\n",
    "        tmp_dict[\"file_name\"].append(file_name)\n",
    "        # add your observables here:\n",
    "        precursors_data = file_tuple[0]\n",
    "        tmp_dict[\"intensity_sum\"].append(precursors_data[\"intensity\"].sum())\n",
    "\n",
    "    return pd.DataFrame(tmp_dict)"
   ]
  },
  {
   "cell_type": "markdown",
   "id": "6dcafe8b51cc2438",
   "metadata": {},
   "source": [
    "### Plotting functions"
   ]
  },
  {
   "cell_type": "code",
   "execution_count": null,
   "id": "e9d17ff4d3c48cc8",
   "metadata": {},
   "outputs": [],
   "source": [
    "def plot_obs(obs: str, *, symmetric: bool = True) -> None:\n",
    "    \"\"\"Plot observables.\"\"\"\n",
    "    colors_dict = {\n",
    "        15: \"red\",\n",
    "        16: \"green\",\n",
    "    }\n",
    "    colors = [colors_dict.get(x, \"blue\") for x in df[\"settings_version_sandbox\"]]\n",
    "\n",
    "    df.plot(\n",
    "        kind=\"scatter\",\n",
    "        x=f\"{obs}_prod\",\n",
    "        y=f\"{obs}_sandbox\",\n",
    "        color=colors,\n",
    "        alpha=0.2,\n",
    "        label=colors_dict,\n",
    "    )\n",
    "\n",
    "    if symmetric:\n",
    "        min_ = min(\n",
    "            df[f\"{obs}_prod\"].min(),\n",
    "            df[f\"{obs}_sandbox\"].min(),\n",
    "        )\n",
    "        max_ = max(\n",
    "            df[f\"{obs}_prod\"].max(),\n",
    "            df[f\"{obs}_sandbox\"].max(),\n",
    "        )\n",
    "        plt.xlim([min_, max_])\n",
    "        plt.ylim([min_, max_])\n",
    "\n",
    "    plt.plot(\n",
    "        [df[f\"{obs}_prod\"].min(), df[f\"{obs}_prod\"].max()],\n",
    "        [df[f\"{obs}_prod\"].min(), df[f\"{obs}_prod\"].max()],\n",
    "        color=\"grey\",\n",
    "        linestyle=\"--\",\n",
    "    )\n",
    "    plt.legend()\n",
    "\n",
    "    plt.show()"
   ]
  },
  {
   "cell_type": "markdown",
   "id": "5989f4e58c1915c1",
   "metadata": {},
   "source": [
    "## Analysis: single environment"
   ]
  },
  {
   "cell_type": "code",
   "execution_count": null,
   "id": "69431e4759c4bd0b",
   "metadata": {},
   "outputs": [],
   "source": [
    "prod_df = read_overview_data(input_path_prod)"
   ]
  },
  {
   "cell_type": "code",
   "execution_count": null,
   "id": "8e1e1ce0a1e8fce2",
   "metadata": {},
   "outputs": [],
   "source": [
    "def get_status_details(\n",
    "    df: pd.DataFrame,\n",
    "    status: str,\n",
    "    mask: pd.Series = None,\n",
    "    blacklist: list[str] = [\"NOT_DIA_DATA\"],  # noqa: B006\n",
    ") -> pd.Series:\n",
    "    \"\"\"Get status details for a given status.\"\"\"\n",
    "    mask1 = df[\"status\"] == status\n",
    "    mask2 = df[\"status_details\"].apply(\n",
    "        lambda x: not any(b in str(x) for b in blacklist)\n",
    "    )\n",
    "    mask3 = len(df) * [True] if mask is None else mask\n",
    "\n",
    "    return df[mask1 & mask2 & mask3][\"status_details\"].value_counts()"
   ]
  },
  {
   "cell_type": "code",
   "execution_count": null,
   "id": "d7423598f522dccd",
   "metadata": {},
   "outputs": [],
   "source": [
    "# histogram of status_details\n",
    "\n",
    "_, axs = plt.subplots(1, 2, figsize=(10, 5))\n",
    "\n",
    "size_mask = prod_df[\"size_gb\"] > 0\n",
    "\n",
    "get_status_details(\n",
    "    prod_df, \"quanting_failed\", (prod_df[\"settings_version\"] == 4) & size_mask\n",
    ").plot(kind=\"bar\", ax=axs[0])\n",
    "get_status_details(\n",
    "    prod_df, \"quanting_failed\", (prod_df[\"settings_version\"] == 5) & size_mask\n",
    ").plot(kind=\"bar\", ax=axs[1])"
   ]
  },
  {
   "cell_type": "code",
   "execution_count": null,
   "id": "69b15794679fc7f7",
   "metadata": {},
   "outputs": [],
   "source": [
    "# boxplot of sizes vs status\n",
    "prod_df[\"status_group\"] = prod_df[\"status\"].apply(\n",
    "    lambda x: \"quanting_failed\" if x == \"quanting_failed\" else \"other\"\n",
    ")\n",
    "\n",
    "prod_df.boxplot(column=\"size_gb\", by=\"status_group\")"
   ]
  },
  {
   "cell_type": "markdown",
   "id": "87492108c87efccc",
   "metadata": {},
   "source": [
    "## Analysis: compare two environment"
   ]
  },
  {
   "cell_type": "code",
   "execution_count": null,
   "id": "f41f0ce608362c81",
   "metadata": {},
   "outputs": [],
   "source": [
    "sandbox_df = read_overview_data(input_path_sandbox)\n",
    "prod_df = read_overview_data(input_path_prod)\n",
    "\n",
    "\n",
    "sandbox_df[pd.isna(sandbox_df[\"settings_version\"])] = 1\n",
    "prod_df[pd.isna(prod_df[\"settings_version\"])] = 1\n",
    "\n",
    "sandbox_df = sandbox_df[sandbox_df[\"settings_version\"] > 2]"
   ]
  },
  {
   "cell_type": "code",
   "execution_count": null,
   "id": "7664ecb894fff261",
   "metadata": {},
   "outputs": [],
   "source": [
    "df = prod_df.merge(sandbox_df, on=\"file_name\", suffixes=(\"_prod\", \"_sandbox\"))\n",
    "df.head()"
   ]
  },
  {
   "cell_type": "code",
   "execution_count": null,
   "id": "3d72b27d771dbc3d",
   "metadata": {},
   "outputs": [],
   "source": [
    "columns_on_top = [\n",
    "    \"proteins\",\n",
    "    \"precursors\",\n",
    "    \"ms1_accuracy\",\n",
    "    \"fwhm_rt\",\n",
    "    \"quanting_time_minutes\",\n",
    "]\n",
    "rest_of_columns = [col for col in prod_df.columns if col not in columns_on_top]\n",
    "excluded_columns = [\n",
    "    \"file_name\",\n",
    "    \"year_month\",\n",
    "    \"settings_version\",\n",
    "    \"created_at_\",\n",
    "    \"updated_at_\",\n",
    "    \"file_created\",\n",
    "    \"collision_flag\",\n",
    "    \"file_info\",\n",
    "    \"created_at\",\n",
    "    \"gradient_length\",\n",
    "    \"original_name\",\n",
    "    \"raw_file\",\n",
    "    \"_id.1\",\n",
    "]\n",
    "for obs in [\n",
    "    col for col in columns_on_top + rest_of_columns if col not in excluded_columns\n",
    "]:\n",
    "    try:\n",
    "        plot_obs(obs)\n",
    "    except Exception as err:  # noqa: BLE001, PERF203\n",
    "        print(\"could not plot\", obs, \" : \", err)"
   ]
  }
 ],
 "metadata": {
  "kernelspec": {
   "display_name": "Python 3",
   "language": "python",
   "name": "python3"
  },
  "language_info": {
   "codemirror_mode": {
    "name": "ipython",
    "version": 2
   },
   "file_extension": ".py",
   "mimetype": "text/x-python",
   "name": "python",
   "nbconvert_exporter": "python",
   "pygments_lexer": "ipython2"
  }
 },
 "nbformat": 4,
 "nbformat_minor": 5
}
