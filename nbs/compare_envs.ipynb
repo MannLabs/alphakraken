{
 "cells": [
  {
   "cell_type": "markdown",
   "id": "a9724364ad7d2449",
   "metadata": {},
   "source": [
    "# Compare AlphaKraken observables between different environments\n",
    "An example notebook to compoare observables from AlphaKraken output data.\n",
    "\n",
    "\n"
   ]
  },
  {
   "cell_type": "code",
   "id": "c6a8465f1fbd576d",
   "metadata": {},
   "source": [
    "# ruff: noqa: PLR2004, PD002 # magic numbers, inplace"
   ],
   "outputs": [],
   "execution_count": null
  },
  {
   "cell_type": "code",
   "id": "a95e19187607c166",
   "metadata": {},
   "source": [
    "# environment:\n",
    "# python 3.11\n",
    "# jupyter==1.1.1\n",
    "# -r misc/requirements_development.txt"
   ],
   "outputs": [],
   "execution_count": null
  },
  {
   "cell_type": "code",
   "id": "46d45b1ca5a7c596",
   "metadata": {},
   "source": [
    "from collections import defaultdict\n",
    "from pathlib import Path\n",
    "\n",
    "import matplotlib.pyplot as plt\n",
    "import pandas as pd"
   ],
   "outputs": [],
   "execution_count": null
  },
  {
   "cell_type": "markdown",
   "id": "8f348dfad6a10418",
   "metadata": {},
   "source": [
    "## User input\n",
    "Set these according to your system."
   ]
  },
  {
   "cell_type": "code",
   "id": "7e0c147d3fd2fc81",
   "metadata": {},
   "source": [
    "HOME_DIR = Path(\"/Users/mschwoerer\")\n",
    "\n",
    "# where to find csv export of overview table\n",
    "input_path_sandbox = HOME_DIR / \"Downloads/AlphaKraken_20241104-084828_all.csv\"\n",
    "input_path_prod = HOME_DIR / \"Downloads/AlphaKraken_20241104-084937_filtered.csv\""
   ],
   "outputs": [],
   "execution_count": null
  },
  {
   "cell_type": "markdown",
   "id": "bfce51e9af0434d6",
   "metadata": {},
   "source": "## Analysis code"
  },
  {
   "cell_type": "markdown",
   "id": "270bb6db67e9f547",
   "metadata": {},
   "source": "### Read data from AlphaKraken table"
  },
  {
   "cell_type": "code",
   "id": "67659f0668f1b39d",
   "metadata": {},
   "source": [
    "def read_overview_data(input_path: Path) -> pd.DataFrame:\n",
    "    \"\"\"Read overview data from AlphaKraken export.\"\"\"\n",
    "    overview_df = pd.read_csv(input_path)\n",
    "    overview_df.rename(columns={\"_id\": \"file_name\"}, inplace=True)\n",
    "    overview_df.rename(columns={\"Unnamed: 0\": \"file_name\"}, inplace=True)\n",
    "    overview_df[\"year_month\"] = pd.to_datetime(overview_df[\"file_created\"]).dt.strftime(\n",
    "        \"%Y_%m\"\n",
    "    )\n",
    "    return overview_df"
   ],
   "outputs": [],
   "execution_count": null
  },
  {
   "cell_type": "markdown",
   "id": "e853bd09956c2227",
   "metadata": {},
   "source": "### Extract data"
  },
  {
   "cell_type": "code",
   "id": "4b9aebcc4e4e260",
   "metadata": {},
   "source": [
    "def extract_observables(all_data: dict) -> pd.DataFrame:\n",
    "    \"\"\"Extract observables from AlphaKraken output.\"\"\"\n",
    "    tmp_dict = defaultdict(list)\n",
    "    for file_name, (file_tuple) in all_data.items():\n",
    "        tmp_dict[\"file_name\"].append(file_name)\n",
    "        # add your observables here:\n",
    "        precursors_data = file_tuple[0]\n",
    "        tmp_dict[\"intensity_sum\"].append(precursors_data[\"intensity\"].sum())\n",
    "\n",
    "    return pd.DataFrame(tmp_dict)"
   ],
   "outputs": [],
   "execution_count": null
  },
  {
   "cell_type": "markdown",
   "id": "6dcafe8b51cc2438",
   "metadata": {},
   "source": "### Plotting functions"
  },
  {
   "cell_type": "code",
   "id": "e9d17ff4d3c48cc8",
   "metadata": {},
   "source": [
    "def plot_obs(obs: str) -> None:\n",
    "    \"\"\"Plot observables.\"\"\"\n",
    "    colors_dict = {\n",
    "        10: \"red\",\n",
    "        11: \"green\",\n",
    "    }\n",
    "    colors = [colors_dict.get(x, \"blue\") for x in df[\"settings_version_sandbox\"]]\n",
    "\n",
    "    df.plot(\n",
    "        kind=\"scatter\",\n",
    "        x=f\"{obs}_prod\",\n",
    "        y=f\"{obs}_sandbox\",\n",
    "        color=colors,\n",
    "        alpha=0.2,\n",
    "        label=colors_dict,\n",
    "    )\n",
    "\n",
    "    plt.plot(\n",
    "        [df[f\"{obs}_prod\"].min(), df[f\"{obs}_prod\"].max()],\n",
    "        [df[f\"{obs}_prod\"].min(), df[f\"{obs}_prod\"].max()],\n",
    "        color=\"grey\",\n",
    "        linestyle=\"--\",\n",
    "    )\n",
    "    plt.legend()\n",
    "\n",
    "    plt.show()"
   ],
   "outputs": [],
   "execution_count": null
  },
  {
   "cell_type": "markdown",
   "id": "87492108c87efccc",
   "metadata": {},
   "source": "## Analysis"
  },
  {
   "cell_type": "code",
   "id": "f41f0ce608362c81",
   "metadata": {},
   "source": [
    "sandbox_df = read_overview_data(input_path_sandbox)\n",
    "prod_df = read_overview_data(input_path_prod)\n",
    "\n",
    "\n",
    "sandbox_df[pd.isna(sandbox_df[\"settings_version\"])] = 1\n",
    "prod_df[pd.isna(prod_df[\"settings_version\"])] = 1\n",
    "\n",
    "sandbox_df = sandbox_df[sandbox_df[\"settings_version\"] > 2]"
   ],
   "outputs": [],
   "execution_count": null
  },
  {
   "cell_type": "code",
   "id": "7664ecb894fff261",
   "metadata": {},
   "source": [
    "df = prod_df.merge(sandbox_df, on=\"file_name\", suffixes=(\"_prod\", \"_sandbox\"))\n",
    "df.head()"
   ],
   "outputs": [],
   "execution_count": null
  },
  {
   "cell_type": "code",
   "id": "3d72b27d771dbc3d",
   "metadata": {},
   "source": [
    "columns_on_top = [\n",
    "    \"proteins\",\n",
    "    \"precursors\",\n",
    "    \"ms1_accuracy\",\n",
    "    \"fwhm_rt\",\n",
    "    \"quanting_time_minutes\",\n",
    "]\n",
    "rest_of_columns = [col for col in prod_df.columns if col not in columns_on_top]\n",
    "excluded_columns = [\n",
    "    \"file_name\",\n",
    "    \"year_month\",\n",
    "    \"settings_version\",\n",
    "    \"created_at_\",\n",
    "    \"updated_at_\",\n",
    "    \"file_created\",\n",
    "    \"collision_flag\",\n",
    "    \"file_info\",\n",
    "    \"created_at\",\n",
    "    \"_id.1\",\n",
    "]\n",
    "for obs in [\n",
    "    col for col in columns_on_top + rest_of_columns if col not in excluded_columns\n",
    "]:\n",
    "    try:\n",
    "        plot_obs(obs)\n",
    "    except Exception as err:  # noqa: BLE001, PERF203\n",
    "        print(\"could not plot\", obs, \" : \", err)"
   ],
   "outputs": [],
   "execution_count": null
  }
 ],
 "metadata": {
  "kernelspec": {
   "display_name": "Python 3",
   "language": "python",
   "name": "python3"
  },
  "language_info": {
   "codemirror_mode": {
    "name": "ipython",
    "version": 2
   },
   "file_extension": ".py",
   "mimetype": "text/x-python",
   "name": "python",
   "nbconvert_exporter": "python",
   "pygments_lexer": "ipython2",
   "version": "2.7.6"
  }
 },
 "nbformat": 4,
 "nbformat_minor": 5
}
